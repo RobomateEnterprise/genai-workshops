{
  "nbformat": 4,
  "nbformat_minor": 0,
  "metadata": {
    "colab": {
      "provenance": []
    },
    "kernelspec": {
      "name": "python3",
      "display_name": "Python 3"
    },
    "language_info": {
      "name": "python"
    }
  },
  "cells": [
    {
      "cell_type": "code",
      "execution_count": null,
      "metadata": {
        "id": "hOtqXT2Ylmmf"
      },
      "outputs": [],
      "source": []
    },
    {
      "cell_type": "markdown",
      "source": [
        "# 1: Integration with Chat Engines\n",
        "When building AI chatbots, we often need to integrate with various chat platforms. Each platform has its unique way of handling messages, but they all need to work seamlessly with our core AI system. Let's look at three common integration scenarios:\n",
        "\n",
        "# Chat Platforms Overview\n",
        "# Webim\n",
        "A real-time web chat platform commonly used for customer support. It uses websocket connections for instant communication and supports features like typing indicators and visitor tracking. Particularly useful for website-based support systems."
      ],
      "metadata": {
        "id": "UNYOLsAnlu6V"
      }
    },
    {
      "cell_type": "markdown",
      "source": [],
      "metadata": {
        "id": "7H9cB5WDn_eX"
      }
    },
    {
      "cell_type": "code",
      "source": [
        "class WebimAdapter(ChatEngineAdapter):\n",
        "    async def receive_message(self, raw_data: Dict[str, Any]) -> Message:\n",
        "        return Message(\n",
        "            text=raw_data.get(\"text\", \"\"),\n",
        "            user_id=raw_data.get(\"visitor_id\"),\n",
        "            timestamp=raw_data.get(\"timestamp\"),\n",
        "            metadata={\n",
        "                \"session_id\": raw_data.get(\"session_id\"),\n",
        "                \"visitor_name\": raw_data.get(\"visitor_name\")\n",
        "            }\n",
        "        )"
      ],
      "metadata": {
        "id": "w6L4johbn1J_"
      },
      "execution_count": null,
      "outputs": []
    },
    {
      "cell_type": "markdown",
      "source": [
        "# **ChatFuel**\n",
        "A bot-building platform primarily used with messaging services like Facebook Messenger. It uses a block-based system for responses and handles user interactions through a REST API."
      ],
      "metadata": {
        "id": "x-ZWZnuZoAj2"
      }
    },
    {
      "cell_type": "code",
      "source": [
        "class ChatFuelAdapter(ChatEngineAdapter):\n",
        "    async def send_message(self, response: Response, user_id: str) -> None:\n",
        "        url = f\"{self.base_url}/{user_id}/send\"\n",
        "        payload = {\n",
        "            \"chatfuel_token\": self.token,\n",
        "            \"blocks\": [{\"text\": response.text}]\n",
        "        }\n",
        "        if response.action == \"location\":\n",
        "            payload[\"blocks\"].append({\n",
        "                \"type\": \"location\",\n",
        "                \"coordinates\": response.metadata.get(\"coordinates\", {})\n",
        "            })"
      ],
      "metadata": {
        "id": "tSnT4mYxoURz"
      },
      "execution_count": null,
      "outputs": []
    },
    {
      "cell_type": "markdown",
      "source": [
        "# **WebSocket Custom Chat**\n",
        "A custom implementation for real-time chat applications. Provides direct, bidirectional communication between client and server, ideal for applications requiring low latency and real-time updates."
      ],
      "metadata": {
        "id": "0MAIKEgjogHg"
      }
    },
    {
      "cell_type": "code",
      "source": [
        "class WebSocketAdapter(ChatEngineAdapter):\n",
        "    async def handle_events(self, event_data: Dict[str, Any]) -> None:\n",
        "        event_type = event_data.get(\"type\")\n",
        "        if event_type == \"connect\":\n",
        "            await self.ws_manager.handle_connect(event_data)\n",
        "        elif event_type == \"disconnect\":\n",
        "            await self.ws_manager.handle_disconnect(event_data)"
      ],
      "metadata": {
        "id": "GHmoT6wLoyxp"
      },
      "execution_count": null,
      "outputs": []
    },
    {
      "cell_type": "markdown",
      "source": [],
      "metadata": {
        "id": "3n9AOMnlo1-S"
      }
    },
    {
      "cell_type": "markdown",
      "source": [
        "# Common Integration Pattern\n",
        "We use the Adapter pattern to standardize these different platforms:"
      ],
      "metadata": {
        "id": "0mfF5ZGPo73N"
      }
    },
    {
      "cell_type": "code",
      "source": [
        "class ChatEngineAdapter(ABC):\n",
        "    @abstractmethod\n",
        "    async def receive_message(self, raw_data: Dict[str, Any]) -> Message:\n",
        "        \"\"\"Convert platform-specific message to standard format\"\"\"\n",
        "        pass\n",
        "\n",
        "    @abstractmethod\n",
        "    async def send_message(self, response: Response, user_id: str) -> None:\n",
        "        \"\"\"Send response back to the platform\"\"\"\n",
        "        pass"
      ],
      "metadata": {
        "id": "QogDtjnSo-G4"
      },
      "execution_count": null,
      "outputs": []
    },
    {
      "cell_type": "markdown",
      "source": [
        "# **Chapter 2: Message Aggregation in Chat Systems**\n",
        "In chat interactions, users often break their thoughts into multiple messages. Instead of sending \"What's the fastest route from New York to Los Angeles?\", they might type:\n",
        "\n",
        "```\n",
        "\"What's\"\n",
        "\"the fastest\"\n",
        "\"route from NY\"\n",
        "\"to LA?\"\n",
        "```\n",
        "\n",
        "\n",
        "This natural behavior creates a challenge for AI systems. Each message in isolation lacks context, and making separate API calls for each fragment is inefficient and may produce incorrect responses. Let's explore how to handle this elegantly.\n",
        "The Aggregation Solution\n",
        "Here's how we handle message aggregation in our navigation system:"
      ],
      "metadata": {
        "id": "amyJcyTlpDpA"
      }
    },
    {
      "cell_type": "code",
      "source": [
        "class MessageAggregator:\n",
        "    def __init__(self, window_size: int = 3):\n",
        "        self.messages = defaultdict(list)\n",
        "        self.last_processed = {}\n",
        "        self.window_size = window_size  # seconds\n",
        "\n",
        "    async def add_message(self, user_id: str, message: str) -> bool:\n",
        "        current_time = datetime.now()\n",
        "        self.messages[user_id].append({\n",
        "            \"text\": message,\n",
        "            \"timestamp\": current_time\n",
        "        })\n",
        "\n",
        "        should_process = await self._should_process_messages(user_id, current_time)\n",
        "        return should_process\n",
        "\n",
        "    async def get_aggregated_message(self, user_id: str) -> str:\n",
        "        messages = self.messages[user_id]\n",
        "        self.messages[user_id] = []\n",
        "        self.last_processed[user_id] = datetime.now()\n",
        "\n",
        "        return \" \".join(msg[\"text\"] for msg in messages)"
      ],
      "metadata": {
        "id": "Fjwwm7IepMjW"
      },
      "execution_count": null,
      "outputs": []
    },
    {
      "cell_type": "markdown",
      "source": [
        "Integration with Navigation Chat"
      ],
      "metadata": {
        "id": "13kS1b6TqUs2"
      }
    },
    {
      "cell_type": "code",
      "source": [
        "class NavigationChat:\n",
        "    def __init__(self):\n",
        "        self.aggregator = MessageAggregator(window_size=3)\n",
        "        self.nav_agent = NavigationAgent(...)\n",
        "\n",
        "    async def process_message(self, user_id: str, message: str):\n",
        "        should_process = await self.aggregator.add_message(user_id, message)\n",
        "\n",
        "        if should_process:\n",
        "            complete_query = await self.aggregator.get_aggregated_message(user_id)\n",
        "            return await self.nav_agent.process_query(complete_query)\n",
        "\n",
        "        return None"
      ],
      "metadata": {
        "id": "ILt44w0NqXD2"
      },
      "execution_count": null,
      "outputs": []
    },
    {
      "cell_type": "markdown",
      "source": [
        "# Chapter 3: Function Calling in AI Chat Systems\n",
        "In our navigation system, function calling creates a bridge between natural language input and structured API operations. We use a YAML-based approach to define and execute specific actions like geocoding, routing, and place discovery.\n",
        "# Core Function Calling Structure\n",
        "Let's look at how our system handles function calls:"
      ],
      "metadata": {
        "id": "Sr-HGiJlqjx1"
      }
    },
    {
      "cell_type": "code",
      "source": [
        "class NavigationResult(BaseModel):\n",
        "    action: str = Field(..., description=\"The action: 'geocode', 'route', 'discover', or 'autosuggest'\")\n",
        "    geocoding_result: Optional[GeocodingResult] = None\n",
        "    routing_result: Optional[RoutingResult] = None\n",
        "    discover_result: Optional[DiscoverResult] = None\n",
        "    raw_response: str = Field(..., description=\"Raw LLM response\")\n",
        "\n",
        "class NavigationAgent:\n",
        "    def __init__(self, llm, geocode_tool, route_tool, discover_tool, autosuggest_tool):\n",
        "        self.llm = llm\n",
        "        self.geocode_tool = geocode_tool\n",
        "        self.route_tool = route_tool\n",
        "        self.discover_tool = discover_tool\n",
        "        self.autosuggest_tool = autosuggest_tool\n",
        "\n",
        "    def run(self, query: str) -> NavigationResult:\n",
        "        # Get structured YAML response from LLM\n",
        "        raw_output = self.llm.invoke(self._create_prompt(query))\n",
        "\n",
        "        # Parse action and parameters\n",
        "        action, params = self._parse_raw_output(raw_output)\n",
        "\n",
        "        # Execute appropriate tool\n",
        "        return self._execute_tool(action, params, raw_output)"
      ],
      "metadata": {
        "id": "Meq4uL-zrbcL"
      },
      "execution_count": null,
      "outputs": []
    },
    {
      "cell_type": "markdown",
      "source": [
        "# YAML Response Format\n",
        "The LLM generates structured responses like this:\n"
      ],
      "metadata": {
        "id": "8cDAVgKnsJdB"
      }
    },
    {
      "cell_type": "code",
      "source": [
        "action: route\n",
        "params:\n",
        "    origin: \"Times Square, NY\"\n",
        "    destination: \"Central Park, NY\"\n",
        "explanation: User is requesting directions between two locations"
      ],
      "metadata": {
        "id": "7AECh6qBsLhE"
      },
      "execution_count": null,
      "outputs": []
    },
    {
      "cell_type": "markdown",
      "source": [],
      "metadata": {
        "id": "bwPJfFXCsN4m"
      }
    },
    {
      "cell_type": "markdown",
      "source": [
        "# Function Execution\n",
        "Here's how we handle different function calls:"
      ],
      "metadata": {
        "id": "cznqrH7UsPI4"
      }
    },
    {
      "cell_type": "code",
      "source": [
        "def _execute_tool(self, action: str, params: Dict[str, Any], raw_output: str) -> NavigationResult:\n",
        "    try:\n",
        "        if action == \"geocode\":\n",
        "            tool_result = self.geocode_tool.run(params[\"address\"])\n",
        "            lat, lon = self._extract_coordinates(tool_result)\n",
        "            return NavigationResult(\n",
        "                action=\"geocode\",\n",
        "                geocoding_result=GeocodingResult(\n",
        "                    address=params[\"address\"],\n",
        "                    latitude=lat,\n",
        "                    longitude=lon\n",
        "                ),\n",
        "                raw_response=raw_output\n",
        "            )\n",
        "\n",
        "        elif action == \"route\":\n",
        "            # First geocode both locations\n",
        "            origin_coords = self.geocode_tool.run(params[\"origin\"])\n",
        "            dest_coords = self.geocode_tool.run(params[\"destination\"])\n",
        "\n",
        "            # Calculate route\n",
        "            route = self.route_tool.run({\n",
        "                \"origin\": origin_coords,\n",
        "                \"destination\": dest_coords\n",
        "            })\n",
        "\n",
        "            return NavigationResult(\n",
        "                action=\"route\",\n",
        "                routing_result=RoutingResult(\n",
        "                    origin=params[\"origin\"],\n",
        "                    destination=params[\"destination\"],\n",
        "                    distance_km=route[\"distance\"],\n",
        "                    duration_hours=route[\"duration\"]\n",
        "                ),\n",
        "                raw_response=raw_output\n",
        "            )"
      ],
      "metadata": {
        "id": "JI9bFNj9sRBg"
      },
      "execution_count": null,
      "outputs": []
    },
    {
      "cell_type": "markdown",
      "source": [
        "# Error Handling\n",
        "We implement robust error handling for function calls:"
      ],
      "metadata": {
        "id": "ofHLQ2DOseWl"
      }
    },
    {
      "cell_type": "code",
      "source": [
        "def _safe_execute_tool(self, func: Callable, params: Dict[str, Any]) -> Any:\n",
        "    try:\n",
        "        return func(params)\n",
        "    except Exception as e:\n",
        "        error_msg = f\"Error executing {func.__name__}: {str(e)}\"\n",
        "        logger.error(error_msg)\n",
        "        return NavigationResult(\n",
        "            action=\"error\",\n",
        "            raw_response=error_msg\n",
        "        )"
      ],
      "metadata": {
        "id": "6BV8hPC5spid"
      },
      "execution_count": null,
      "outputs": []
    },
    {
      "cell_type": "markdown",
      "source": [],
      "metadata": {
        "id": "E5B_Xt_IsqQM"
      }
    },
    {
      "cell_type": "markdown",
      "source": [
        "# Real-World Example\n",
        "Here's how it processes a real navigation query:"
      ],
      "metadata": {
        "id": "1Vjg3zhzssm3"
      }
    },
    {
      "cell_type": "code",
      "source": [
        "# User query: \"How do I get from Times Square to Central Park?\"\n",
        "\n",
        "# 1. LLM generates YAML:\n",
        "\"\"\"\n",
        "action: route\n",
        "params:\n",
        "    origin: Times Square, New York, NY\n",
        "    destination: Central Park, New York, NY\n",
        "explanation: Calculate route between two NYC landmarks\n",
        "\"\"\"\n",
        "\n",
        "# 2. System executes:\n",
        "# - Geocodes both locations\n",
        "# - Calculates route\n",
        "# - Returns structured response with distance and duration"
      ],
      "metadata": {
        "id": "_Wwi9NMmsvTs"
      },
      "execution_count": null,
      "outputs": []
    },
    {
      "cell_type": "markdown",
      "source": [
        "# **Chapter 4: Complex Dialogue Flows with LangChain and LlamaIndex**\n",
        "Handling complex navigation queries often requires multi-step dialogues and state management. Let's explore how to build sophisticated conversation flows using LangChain's tools.\n",
        "# Building Conversation Flows\n",
        "Here's how we structure complex dialogues:"
      ],
      "metadata": {
        "id": "Y1ur0AFdtRHP"
      }
    },
    {
      "cell_type": "code",
      "source": [
        "from typing import List, Dict, Any\n",
        "from langchain.graphs import StateGraph\n",
        "from pydantic import BaseModel\n",
        "from enum import Enum\n",
        "\n",
        "class DialogueState(BaseModel):\n",
        "    current_node: str\n",
        "    context: Dict[str, Any] = {}\n",
        "    collected_data: Dict[str, Any] = {}\n",
        "    required_fields: List[str] = []\n",
        "\n",
        "class NavigationFlow:\n",
        "    def __init__(self):\n",
        "        self.workflow = StateGraph()\n",
        "        self.state = DialogueState(current_node=\"start\")\n",
        "        self._setup_navigation_flow()\n",
        "\n",
        "    def _setup_navigation_flow(self):\n",
        "        # Define nodes\n",
        "        self.workflow.add_node(\"start\", self._handle_initial_query)\n",
        "        self.workflow.add_node(\"get_origin\", self._handle_origin)\n",
        "        self.workflow.add_node(\"get_destination\", self._handle_destination)\n",
        "        self.workflow.add_node(\"confirm_route\", self._handle_confirmation)\n",
        "        self.workflow.add_node(\"provide_alternatives\", self._handle_alternatives)\n",
        "\n",
        "        # Define edges and conditions\n",
        "        self.workflow.add_edge(\"start\", \"get_origin\", self._needs_origin)\n",
        "        self.workflow.add_edge(\"get_origin\", \"get_destination\", self._has_origin)\n",
        "        self.workflow.add_edge(\"get_destination\", \"confirm_route\", self._has_destination)\n",
        "        self.workflow.add_edge(\"confirm_route\", \"provide_alternatives\", self._needs_alternatives)"
      ],
      "metadata": {
        "id": "NKBbsew_tZpU"
      },
      "execution_count": null,
      "outputs": []
    },
    {
      "cell_type": "markdown",
      "source": [
        "# State Management and Context\n",
        "Managing conversation context:"
      ],
      "metadata": {
        "id": "X1Es_S5ftc-I"
      }
    },
    {
      "cell_type": "code",
      "source": [
        "class NavigationContext:\n",
        "    def __init__(self):\n",
        "        self.memory = ConversationBufferMemory()\n",
        "        self.current_route = None\n",
        "        self.alternatives = []\n",
        "\n",
        "    async def update_context(self, user_input: str, node_result: Any):\n",
        "        # Update memory with new information\n",
        "        self.memory.chat_memory.add_user_message(user_input)\n",
        "\n",
        "        if isinstance(node_result, RouteResult):\n",
        "            self.current_route = node_result\n",
        "            self.memory.chat_memory.add_ai_message(\n",
        "                f\"Found route: {node_result.distance_km}km, {node_result.duration_hours}hrs\"\n",
        "            )\n",
        "\n",
        "    async def get_context_for_prompt(self) -> str:\n",
        "        return self.memory.chat_memory.messages"
      ],
      "metadata": {
        "id": "a1AUrzantjsS"
      },
      "execution_count": null,
      "outputs": []
    },
    {
      "cell_type": "markdown",
      "source": [
        "# Node Implementation\n",
        "Example of node handlers:"
      ],
      "metadata": {
        "id": "thvRCygjtpi8"
      }
    },
    {
      "cell_type": "code",
      "source": [
        "async def _handle_initial_query(self, state: DialogueState, user_input: str) -> str:\n",
        "    # Use LLM to understand query intent\n",
        "    query_analysis = self.llm.analyze_query(user_input)\n",
        "\n",
        "    # Extract locations if present\n",
        "    if \"origin\" in query_analysis:\n",
        "        state.collected_data[\"origin\"] = query_analysis[\"origin\"]\n",
        "    if \"destination\" in query_analysis:\n",
        "        state.collected_data[\"destination\"] = query_analysis[\"destination\"]\n",
        "\n",
        "    # Update required fields\n",
        "    state.required_fields = [\n",
        "        field for field in [\"origin\", \"destination\"]\n",
        "        if field not in state.collected_data\n",
        "    ]\n",
        "\n",
        "    return self._generate_next_prompt(state)\n",
        "\n",
        "async def _handle_confirmation(self, state: DialogueState, user_input: str) -> str:\n",
        "    if self._is_confirmation_positive(user_input):\n",
        "        # Execute navigation request\n",
        "        route = await self.navigation_agent.get_route(\n",
        "            state.collected_data[\"origin\"],\n",
        "            state.collected_data[\"destination\"]\n",
        "        )\n",
        "        return self._format_route_response(route)\n",
        "    else:\n",
        "        state.current_node = \"provide_alternatives\"\n",
        "        return \"Would you like to see alternative routes?\""
      ],
      "metadata": {
        "id": "3bddULEAtsgf"
      },
      "execution_count": null,
      "outputs": []
    },
    {
      "cell_type": "markdown",
      "source": [],
      "metadata": {
        "id": "MxQUDfaDtxZ9"
      }
    },
    {
      "cell_type": "markdown",
      "source": [
        "# Integration with Navigation Tools\n",
        "Connecting dialogue flow with navigation features:**"
      ],
      "metadata": {
        "id": "aRnIDGxltyrR"
      }
    },
    {
      "cell_type": "code",
      "source": [
        "class NavigationDialogueSystem:\n",
        "    def __init__(self, navigation_agent):\n",
        "        self.nav_agent = navigation_agent\n",
        "        self.flow = NavigationFlow()\n",
        "        self.context = NavigationContext()\n",
        "\n",
        "    async def process_message(self, user_input: str) -> str:\n",
        "        # Process through dialogue flow\n",
        "        state = await self.flow.process(user_input)\n",
        "\n",
        "        if state.current_node == \"confirm_route\":\n",
        "            # Get route using navigation agent\n",
        "            route = await self.nav_agent.get_route(\n",
        "                state.collected_data[\"origin\"],\n",
        "                state.collected_data[\"destination\"]\n",
        "            )\n",
        "\n",
        "            # Update context with route information\n",
        "            await self.context.update_context(user_input, route)\n",
        "\n",
        "            return self._format_route_response(route)"
      ],
      "metadata": {
        "id": "nblmHO7xt34D"
      },
      "execution_count": null,
      "outputs": []
    },
    {
      "cell_type": "markdown",
      "source": [
        "Usage Example\n",
        "# Here's how a complex navigation dialogue might flow:"
      ],
      "metadata": {
        "id": "Nb7VuVWTuJ_i"
      }
    },
    {
      "cell_type": "code",
      "source": [
        "# Example conversation flow:\n",
        "user: \"I need to get somewhere in Manhattan\"\n",
        "system: \"Where in Manhattan would you like to go?\"\n",
        "user: \"Central Park\"\n",
        "system: \"And where are you starting from?\"\n",
        "user: \"Times Square\"\n",
        "system: \"I found a route from Times Square to Central Park:\n",
        "        Distance: 2.5km\n",
        "        Duration: 0.5 hours\n",
        "        Would you like to see this route?\"\n",
        "user: \"Are there any faster alternatives?\"\n",
        "system: \"I found 2 alternative routes:\n",
        "        1. Via 7th Avenue (0.4 hours)\n",
        "        2. Via Broadway (0.45 hours)\n",
        "        Which would you prefer?\""
      ],
      "metadata": {
        "id": "U-k96au_uL07"
      },
      "execution_count": null,
      "outputs": []
    },
    {
      "cell_type": "markdown",
      "source": [],
      "metadata": {
        "id": "WBd0wZ45t46P"
      }
    }
  ]
}
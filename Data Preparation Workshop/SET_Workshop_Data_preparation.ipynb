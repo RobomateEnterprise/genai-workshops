{
  "cells": [
    {
      "cell_type": "markdown",
      "source": [
        "# Outline\n",
        "\n",
        "## Purpose\n",
        "This tutorial demonstrates how to create a synthetic retail dataset using generative AI and implement a search system using language models and vector stores.\n",
        "\n",
        "## Key Components\n",
        "1. Data generation\n",
        "   - Product information generation using Claude AI\n",
        "   - Review and rating generation using Claude AI\n",
        "2. Data processing and storage\n",
        "   - Saving generated data to CSV files\n",
        "3. Vector store creation\n",
        "   - Using LangChain and ChromaDB\n",
        "   - Embedding generation with Amazon Bedrock\n",
        "4. Search functionality implementation\n",
        "   - Similarity search using the vector store\n",
        "\n",
        "## Expected Outcomes\n",
        "After practicing with this code, users will:\n",
        "1. Understand how to use generative AI to create synthetic datasets\n",
        "2. Learn to process and structure data for use in a vector store\n",
        "3. Gain experience with LangChain, ChromaDB, and Amazon Bedrock for creating embeddings and vector stores\n",
        "4. Implement a basic similarity search function for product and review data\n",
        "5. Have a framework for building more complex retail analytics and recommendation systems\n",
        "\n",
        "The tutorial provides a hands-on approach to creating a full pipeline from data generation to search functionality, allowing users to experiment with AI-powered retail data analysis and retrieval systems."
      ],
      "metadata": {
        "id": "stjFMaikYyyI"
      }
    },
    {
      "cell_type": "markdown",
      "source": [
        "# Install Dependencies and Environment Variables"
      ],
      "metadata": {
        "id": "phY-4Kx8YaZK"
      }
    },
    {
      "cell_type": "code",
      "source": [
        "%pip install --quiet boto3 langchain_community langchain langchain-openai chromadb"
      ],
      "metadata": {
        "id": "yhNv2rRDon5C"
      },
      "execution_count": 67,
      "outputs": []
    },
    {
      "cell_type": "code",
      "execution_count": 54,
      "metadata": {
        "id": "O6kGL4O1ocQO"
      },
      "outputs": [],
      "source": [
        "# Import necessary libraries\n",
        "import os\n",
        "import pandas as pd\n",
        "import numpy as np\n",
        "from sklearn.feature_extraction.text import TfidfVectorizer\n",
        "from sklearn.metrics.pairwise import cosine_similarity\n",
        "import matplotlib.pyplot as plt\n",
        "import boto3\n",
        "import json\n",
        "from tqdm import tqdm\n",
        "\n",
        "from langchain_community.document_loaders import CSVLoader\n",
        "from langchain_community.vectorstores import Chroma\n",
        "from langchain_community.embeddings import BedrockEmbeddings\n",
        "from langchain.schema import Document\n",
        "from langchain_community.vectorstores.utils import filter_complex_metadata\n",
        "#from langchain_anthropic import ChatAnthropic"
      ]
    },
    {
      "cell_type": "code",
      "source": [
        "from google.colab import userdata\n",
        "os.environ['AWS_ACCESS_KEY_ID'] = userdata.get('AWS_ACCESS_KEY_ID')\n",
        "os.environ['AWS_SECRET_ACCESS_KEY'] = userdata.get('AWS_SECRET_ACCESS_KEY')"
      ],
      "metadata": {
        "id": "wvnrL-0lq1PA"
      },
      "execution_count": 55,
      "outputs": []
    },
    {
      "cell_type": "markdown",
      "metadata": {
        "id": "v44tr7eBocQQ"
      },
      "source": [
        "# Simple Synthetic Retail Data Generator"
      ]
    },
    {
      "cell_type": "code",
      "execution_count": 56,
      "metadata": {
        "colab": {
          "base_uri": "https://localhost:8080/"
        },
        "id": "DPEP0w5MocQQ",
        "outputId": "12a34898-ab86-4ffe-828d-f1960a7319d1"
      },
      "outputs": [
        {
          "output_type": "stream",
          "name": "stdout",
          "text": [
            "1. Data Collection\n",
            "   product_id product_name  category   price  rating  \\\n",
            "0           1    Product 1  Clothing  810.03     4.3   \n",
            "1           2    Product 2      Home  521.23     4.4   \n",
            "2           3    Product 3      Home  677.71     2.5   \n",
            "3           4    Product 4     Books  955.76     3.0   \n",
            "4           5    Product 5  Clothing  868.38     3.8   \n",
            "\n",
            "                           review  \n",
            "0  This is a review for product 1  \n",
            "1  This is a review for product 2  \n",
            "2  This is a review for product 3  \n",
            "3  This is a review for product 4  \n",
            "4  This is a review for product 5  \n"
          ]
        }
      ],
      "source": [
        "# 1. Data Collection (simulated for this example)\n",
        "print(\"1. Data Collection\")\n",
        "# For this example, we'll use a sample retail dataset\n",
        "data = {\n",
        "    'product_id': range(1, 101),\n",
        "    'product_name': [f'Product {i}' for i in range(1, 101)],\n",
        "    'category': np.random.choice(['Electronics', 'Clothing', 'Home', 'Books'], 100),\n",
        "    'price': np.random.uniform(10, 1000, 100).round(2),\n",
        "    'rating': np.random.uniform(1, 5, 100).round(1),\n",
        "    'review': [f'This is a review for product {i}' for i in range(1, 101)]\n",
        "}\n",
        "df = pd.DataFrame(data)\n",
        "print(df.head())"
      ]
    },
    {
      "cell_type": "markdown",
      "metadata": {
        "id": "_h4p3Te0ocQR"
      },
      "source": [
        "# Generative AI Synthetic Retail Data Generator"
      ]
    },
    {
      "cell_type": "markdown",
      "metadata": {
        "id": "5Ws2UdhJocQR"
      },
      "source": [
        "## Product Description Generation"
      ]
    },
    {
      "cell_type": "code",
      "execution_count": null,
      "metadata": {
        "id": "OeEfd_0eocQR"
      },
      "outputs": [],
      "source": [
        "# Set up Amazon Bedrock client\n",
        "bedrock = boto3.client(service_name='bedrock-runtime', region_name='us-east-1')\n",
        "#llm = ChatAnthropic(model=\"claude-3-5-sonnet-20240620\", temperature=0.7)\n",
        "\n",
        "def generate_product_data(product_id):\n",
        "    prompt = f\"\"\"Generate realistic product data for a retail item with the following ID: {product_id}\n",
        "\n",
        "    Provide the response in the following JSON format:\n",
        "    {{\n",
        "        \"product_name\": \"A creative and realistic product name\",\n",
        "        \"category\": \"One of: Electronics, Clothing, Home, Books\",\n",
        "        \"description\": \"A brief product description, 15-30 words long\",\n",
        "        \"price\": A realistic price as a float between 10 and 1000\n",
        "    }}\n",
        "    \"\"\"\n",
        "\n",
        "    body = json.dumps({\n",
        "        \"anthropic_version\": \"bedrock-2023-05-31\",\n",
        "        \"max_tokens\": 300,\n",
        "        \"messages\": [\n",
        "            {\n",
        "                \"role\": \"user\",\n",
        "                \"content\": prompt\n",
        "            }\n",
        "        ],\n",
        "        \"temperature\": 0.7,\n",
        "        \"top_p\": 0.9,\n",
        "    })\n",
        "\n",
        "    response = bedrock.invoke_model(\n",
        "        body=body,\n",
        "        modelId=\"anthropic.claude-3-sonnet-20240229-v1:0\",\n",
        "        accept='application/json',\n",
        "        contentType='application/json'\n",
        "    )\n",
        "\n",
        "    response_body = json.loads(response.get('body').read())\n",
        "    generated_text = response_body['content'][0]['text']\n",
        "\n",
        "    try:\n",
        "        result = json.loads(generated_text)\n",
        "        return result\n",
        "    except json.JSONDecodeError:\n",
        "        return {\n",
        "            \"product_name\": f\"Product {product_id}\",\n",
        "            \"category\": np.random.choice(['Electronics', 'Clothing', 'Home', 'Books']),\n",
        "            \"description\": \"Error generating description\",\n",
        "            \"price\": np.random.uniform(10, 1000)\n",
        "        }"
      ]
    },
    {
      "cell_type": "code",
      "source": [
        "#OpenAI version\n",
        "from openai import OpenAI\n",
        "from openai.types.chat import ChatCompletionMessageParam\n",
        "import json\n",
        "import pandas as pd\n",
        "import numpy as np\n",
        "from tqdm import tqdm\n",
        "import re\n",
        "\n",
        "# Initialize OpenAI client\n",
        "openai_api_key = userdata.get('OPENAI_API_KEY')\n",
        "client = OpenAI(api_key=openai_api_key)\n",
        "\n",
        "def clean_json_from_model_output(text):\n",
        "    \"\"\"Strip markdown code block formatting like ```json ... ```.\"\"\"\n",
        "    text = text.strip()\n",
        "    # Remove code block markdown formatting\n",
        "    if text.startswith(\"```\"):\n",
        "        text = re.sub(r\"^```(?:json)?\\s*\", \"\", text)\n",
        "        text = re.sub(r\"\\s*```$\", \"\", text)\n",
        "    return text\n",
        "\n",
        "def generate_product_data(product_id):\n",
        "    prompt = f\"\"\"You are an API that returns ONLY raw JSON. Generate realistic product data for a retail item with the following ID: {product_id}\n",
        "\n",
        "Provide the response in the following JSON format:\n",
        "{{\n",
        "    \"product_name\": \"A creative and realistic product name\",\n",
        "    \"category\": \"One of: Electronics, Clothing, Home, Books\",\n",
        "    \"description\": \"A brief product description, 15-30 words long\",\n",
        "    \"price\": A realistic price as a float between 10 and 1000\n",
        "}}\"\"\"\n",
        "\n",
        "    try:\n",
        "        messages: list[ChatCompletionMessageParam] = [\n",
        "            {\"role\": \"user\", \"content\": prompt}\n",
        "        ]\n",
        "\n",
        "        response = client.chat.completions.create(\n",
        "            model=\"gpt-4o\",\n",
        "            messages=messages,\n",
        "            temperature=0.7,\n",
        "            max_tokens=300,\n",
        "            top_p=0.9\n",
        "        )\n",
        "\n",
        "        generated_text = response.choices[0].message.content.strip()\n",
        "        # Clean and parse the JSON\n",
        "        cleaned_text = clean_json_from_model_output(generated_text)\n",
        "        result = json.loads(cleaned_text)\n",
        "\n",
        "        return result\n",
        "\n",
        "    except Exception as e:\n",
        "        print(f\"Error generating data for product {product_id}: {e}\")\n",
        "        return {\n",
        "            \"product_name\": f\"Product {product_id}\",\n",
        "            \"category\": np.random.choice(['Electronics', 'Clothing', 'Home', 'Books']),\n",
        "            \"description\": \"Error generating description\",\n",
        "            \"price\": float(np.random.uniform(10, 1000))\n",
        "        }\n"
      ],
      "metadata": {
        "id": "R1wGdd3cSZDK"
      },
      "execution_count": 57,
      "outputs": []
    },
    {
      "cell_type": "markdown",
      "metadata": {
        "id": "O0Qm3L0KocQR"
      },
      "source": [
        "## Generate product data"
      ]
    },
    {
      "cell_type": "code",
      "execution_count": 58,
      "metadata": {
        "colab": {
          "base_uri": "https://localhost:8080/"
        },
        "id": "7TAdmM2wocQS",
        "outputId": "4039f962-8ffa-4269-e44e-305e0c0a571f"
      },
      "outputs": [
        {
          "output_type": "stream",
          "name": "stdout",
          "text": [
            "Generating product data...\n"
          ]
        },
        {
          "output_type": "stream",
          "name": "stderr",
          "text": [
            "100%|██████████| 2/2 [00:03<00:00,  1.69s/it]\n"
          ]
        }
      ],
      "source": [
        "print(\"Generating product data...\")\n",
        "products = []\n",
        "for product_id in tqdm(range(1, 3)):\n",
        "    product = generate_product_data(product_id)\n",
        "    product['product_id'] = product_id\n",
        "    products.append(product)\n",
        "\n",
        "df = pd.DataFrame(products)"
      ]
    },
    {
      "cell_type": "code",
      "execution_count": 59,
      "metadata": {
        "id": "qPenjOUOocQS",
        "colab": {
          "base_uri": "https://localhost:8080/"
        },
        "outputId": "137fb381-2e40-48fc-bc3f-79d491efdc79"
      },
      "outputs": [
        {
          "output_type": "stream",
          "name": "stdout",
          "text": [
            "                    product_name     category  \\\n",
            "0     EchoWave Bluetooth Speaker  Electronics   \n",
            "1  UltraSoft Wireless Headphones  Electronics   \n",
            "\n",
            "                                         description   price  product_id  \n",
            "0  Compact and powerful, this speaker delivers cr...   79.99           1  \n",
            "1  Experience unparalleled sound quality with our...  149.99           2  \n"
          ]
        }
      ],
      "source": [
        "df_products = pd.DataFrame(products)\n",
        "print(df_products.head())"
      ]
    },
    {
      "cell_type": "markdown",
      "metadata": {
        "id": "BMYr3BtkocQS"
      },
      "source": [
        "## Product Review and Rating Generation"
      ]
    },
    {
      "cell_type": "code",
      "execution_count": null,
      "metadata": {
        "id": "iP5BKeHmocQS"
      },
      "outputs": [],
      "source": [
        "#Bedrock Sonnet version\n",
        "def generate_review_and_rating(product_name, category, description):\n",
        "    prompt = f\"\"\"Generate a realistic product review and rating for the following product:\n",
        "    Product Name: {product_name}\n",
        "    Category: {category}\n",
        "    Description: {description}\n",
        "\n",
        "    Provide the response in the following JSON format:\n",
        "    {{\n",
        "        \"review\": \"The generated review text\",\n",
        "        \"rating\": A number between 1 and 5, with one decimal place\n",
        "    }}\n",
        "\n",
        "    Ensure the review is between 20 and 50 words long and the rating reflects the sentiment of the review.\n",
        "    \"\"\"\n",
        "\n",
        "    body = json.dumps({\n",
        "        \"anthropic_version\": \"bedrock-2023-05-31\",\n",
        "        \"max_tokens\": 300,\n",
        "        \"messages\": [\n",
        "            {\n",
        "                \"role\": \"user\",\n",
        "                \"content\": prompt\n",
        "            }\n",
        "        ],\n",
        "        \"temperature\": 0.7,\n",
        "        \"top_p\": 0.9,\n",
        "    })\n",
        "\n",
        "    response = bedrock.invoke_model(\n",
        "        body=body,\n",
        "        modelId=\"anthropic.claude-3-sonnet-20240229-v1:0\",\n",
        "        accept='application/json',\n",
        "        contentType='application/json'\n",
        "    )\n",
        "\n",
        "    response_body = json.loads(response.get('body').read())\n",
        "    generated_text = response_body['content'][0]['text']\n",
        "\n",
        "    try:\n",
        "        result = json.loads(generated_text)\n",
        "        return result['review'], result['rating']\n",
        "    except json.JSONDecodeError:\n",
        "        return \"Error generating review\", 3.0\n",
        "\n"
      ]
    },
    {
      "cell_type": "code",
      "source": [
        "#OpenAI version\n",
        "\n",
        "# Helper to clean markdown-like code blocks from LLM output\n",
        "def clean_json(text):\n",
        "    text = text.strip()\n",
        "    if text.startswith(\"```\"):\n",
        "        text = re.sub(r\"^```(?:json)?\\s*\", \"\", text)\n",
        "        text = re.sub(r\"\\s*```$\", \"\", text)\n",
        "    return text\n",
        "\n",
        "# Function to generate review and rating\n",
        "def generate_review_and_rating_OpenAI(product_name, category, description):\n",
        "    prompt = f\"\"\"You are a JSON-only API. Generate a realistic product review and rating for the following product:\n",
        "\n",
        "Product Name: {product_name}\n",
        "Category: {category}\n",
        "Description: {description}\n",
        "\n",
        "Respond strictly in the following JSON format:\n",
        "{{\n",
        "    \"review\": \"The generated review text\",\n",
        "    \"rating\": A number between 1 and 5, with one decimal place\n",
        "}}\n",
        "\n",
        "Make sure the review is 20-50 words long and the rating reflects the sentiment.\n",
        "\"\"\"\n",
        "\n",
        "    try:\n",
        "        messages: list[ChatCompletionMessageParam] = [\n",
        "            {\"role\": \"user\", \"content\": prompt}\n",
        "        ]\n",
        "\n",
        "        response = client.chat.completions.create(\n",
        "            model=\"gpt-4o\",\n",
        "            messages=messages,\n",
        "            temperature=0.7,\n",
        "            max_tokens=300,\n",
        "            top_p=0.9\n",
        "        )\n",
        "\n",
        "        raw_output = response.choices[0].message.content.strip()\n",
        "        print(\"### Raw Output:\\n\", raw_output)\n",
        "\n",
        "        cleaned_output = clean_json(raw_output)\n",
        "        result = json.loads(cleaned_output)\n",
        "\n",
        "        return result[\"review\"], result[\"rating\"]\n",
        "\n",
        "    except Exception as e:\n",
        "        print(f\"Error generating review and rating: {e}\")\n",
        "        return \"Error generating review\", 3.0\n",
        "\n",
        "\n"
      ],
      "metadata": {
        "id": "kzeXgF0HuXJc"
      },
      "execution_count": 61,
      "outputs": []
    },
    {
      "cell_type": "markdown",
      "metadata": {
        "id": "lZy63hNfocQS"
      },
      "source": [
        "## Generate reviews and ratings"
      ]
    },
    {
      "cell_type": "code",
      "execution_count": 62,
      "metadata": {
        "colab": {
          "base_uri": "https://localhost:8080/"
        },
        "id": "HczoRc89ocQS",
        "outputId": "7b113d26-ab79-4fcf-feb6-47e2fcd8ae6f"
      },
      "outputs": [
        {
          "output_type": "stream",
          "name": "stdout",
          "text": [
            "\n",
            "Generating reviews and ratings...\n"
          ]
        },
        {
          "output_type": "stream",
          "name": "stderr",
          "text": [
            "\r  0%|          | 0/2 [00:00<?, ?it/s]"
          ]
        },
        {
          "output_type": "stream",
          "name": "stdout",
          "text": [
            "### Raw Output:\n",
            " {\n",
            "    \"review\": \"The EchoWave Bluetooth Speaker surpasses expectations with its robust sound and deep bass. Its compact design makes it perfect for travel. Highly recommend for any music enthusiast.\",\n",
            "    \"rating\": 4.7\n",
            "}\n",
            "### Raw Output:\n",
            " {\n",
            "    \"review\": \"The EchoWave Bluetooth Speaker is a fantastic choice for music enthusiasts. Its compact design doesn't compromise on sound quality, delivering rich bass and clear audio. Perfect for any setting!\",\n",
            "    \"rating\": 4.7\n",
            "}\n"
          ]
        },
        {
          "output_type": "stream",
          "name": "stderr",
          "text": [
            "\r 50%|█████     | 1/2 [00:04<00:04,  4.05s/it]"
          ]
        },
        {
          "output_type": "stream",
          "name": "stdout",
          "text": [
            "### Raw Output:\n",
            " ```json\n",
            "{\n",
            "    \"review\": \"The EchoWave Bluetooth Speaker is a fantastic addition to my audio setup. Its compact size doesn't compromise on sound quality, delivering clear audio and deep bass. Highly recommend for music lovers!\",\n",
            "    \"rating\": 4.7\n",
            "}\n",
            "```\n",
            "### Raw Output:\n",
            " ```json\n",
            "{\n",
            "    \"review\": \"The UltraSoft Wireless Headphones offer incredible sound quality and are extremely comfortable for long listening sessions. The battery life is impressive, lasting through an entire day of use without needing a recharge.\",\n",
            "    \"rating\": 4.8\n",
            "}\n",
            "```\n",
            "### Raw Output:\n",
            " ```json\n",
            "{\n",
            "    \"review\": \"The UltraSoft Wireless Headphones deliver impressive sound quality and comfort. The battery life is exceptional, lasting through long listening sessions. A bit pricey, but worth it for the quality.\",\n",
            "    \"rating\": 4.5\n",
            "}\n",
            "```\n"
          ]
        },
        {
          "output_type": "stream",
          "name": "stderr",
          "text": [
            "100%|██████████| 2/2 [00:11<00:00,  5.59s/it]"
          ]
        },
        {
          "output_type": "stream",
          "name": "stdout",
          "text": [
            "### Raw Output:\n",
            " {\n",
            "    \"review\": \"The UltraSoft Wireless Headphones offer superb sound quality and exceptional comfort. The battery life is impressive, easily lasting through long listening sessions. Highly recommended for audiophiles seeking both quality and comfort.\",\n",
            "    \"rating\": 4.8\n",
            "}\n",
            "                    product_name     category  \\\n",
            "0     EchoWave Bluetooth Speaker  Electronics   \n",
            "1  UltraSoft Wireless Headphones  Electronics   \n",
            "\n",
            "                                         description   price  product_id  \n",
            "0  Compact and powerful, this speaker delivers cr...   79.99           1  \n",
            "1  Experience unparalleled sound quality with our...  149.99           2  \n"
          ]
        },
        {
          "output_type": "stream",
          "name": "stderr",
          "text": [
            "\n"
          ]
        }
      ],
      "source": [
        "print(\"\\nGenerating reviews and ratings...\")\n",
        "reviews_and_ratings = []\n",
        "df_products = df\n",
        "\n",
        "for _, row in tqdm(df_products.iterrows(), total=len(df_products)):\n",
        "    for _ in range(3):  # Generate 3 reviews per product\n",
        "        # OpenAI version\n",
        "        review, rating = generate_review_and_rating_OpenAI(row['product_name'], row['category'], row['description'])\n",
        "        # Bedrock Sonnet version\n",
        "        #review, rating = generate_review_and_rating(row['product_name'], row['category'], row['description'])\n",
        "        reviews_and_ratings.append({\n",
        "            'product_id': row['product_id'],\n",
        "            'review': review,\n",
        "            'rating': rating\n",
        "        })\n",
        "\n",
        "print(df.head())\n",
        "df_reviews = pd.DataFrame(reviews_and_ratings)\n"
      ]
    },
    {
      "cell_type": "markdown",
      "metadata": {
        "id": "KeMYsDewocQS"
      },
      "source": [
        "# Saving generated data"
      ]
    },
    {
      "cell_type": "code",
      "execution_count": 63,
      "metadata": {
        "colab": {
          "base_uri": "https://localhost:8080/"
        },
        "id": "WdOZoXleocQS",
        "outputId": "aa0bb70e-b6a2-4324-8e2e-74bec037c3fd"
      },
      "outputs": [
        {
          "output_type": "stream",
          "name": "stdout",
          "text": [
            "\n",
            "8. Saving generated data\n",
            "Data saved to 'data/synthetic_retail_data.csv' and 'data/synthetic_product_data.csv'\n"
          ]
        }
      ],
      "source": [
        "print(\"\\n8. Saving generated data\")\n",
        "# Create 'data' folder if it doesn't exist\n",
        "data_folder = 'data'\n",
        "if not os.path.exists(data_folder):\n",
        "    os.makedirs(data_folder)\n",
        "\n",
        "# Save files to the 'data' folder\n",
        "df_products.to_csv(os.path.join(data_folder, 'synthetic_product_data.csv'), index=False)\n",
        "df_reviews.to_csv(os.path.join(data_folder, 'synthetic_review_data.csv'), index=False)\n",
        "print(f\"Data saved to '{data_folder}/synthetic_product_data.csv' and '{data_folder}/synthetic_review_data.csv'\")"
      ]
    },
    {
      "cell_type": "markdown",
      "metadata": {
        "id": "uziJNOYbocQS"
      },
      "source": [
        "## Create LangChain index and ChromaDB store"
      ]
    },
    {
      "cell_type": "code",
      "execution_count": 64,
      "metadata": {
        "id": "Y7Ht8HvNocQS"
      },
      "outputs": [],
      "source": [
        "# Function to load and process a CSV file\n",
        "def load_and_process_csv(file_path):\n",
        "    df = pd.read_csv(file_path)\n",
        "    processed_documents = []\n",
        "\n",
        "    if 'synthetic_product_data' in file_path:\n",
        "        for _, row in df.iterrows():\n",
        "            metadata = {\n",
        "                'product_id': row['product_id'],\n",
        "                'product_name': row['product_name'],\n",
        "                'category': row['category'],\n",
        "                'price': float(row['price'])\n",
        "            }\n",
        "            page_content = f\"{row['product_name']}\\n{row['category']}\\n{row['description']}\"\n",
        "            processed_documents.append(Document(page_content=page_content, metadata=metadata))\n",
        "\n",
        "    elif 'synthetic_review_data' in file_path:\n",
        "        for _, row in df.iterrows():\n",
        "            metadata = {\n",
        "                'product_id': row['product_id'],\n",
        "                'rating': float(row['rating']),\n",
        "                'review': row['review']\n",
        "            }\n",
        "            page_content = row['review']\n",
        "            processed_documents.append(Document(page_content=page_content, metadata=metadata))\n",
        "\n",
        "    else:\n",
        "        print(f\"Skipping unknown file type: {file_path}\")\n",
        "\n",
        "    return processed_documents\n",
        "\n",
        "# Load and process both CSV files\n",
        "product_data = load_and_process_csv(os.path.join(data_folder, 'synthetic_product_data.csv'))\n",
        "review_data = load_and_process_csv(os.path.join(data_folder, 'synthetic_review_data.csv'))\n",
        "# Combine all documents\n",
        "chroma_documents = product_data + review_data"
      ]
    },
    {
      "cell_type": "code",
      "execution_count": null,
      "metadata": {
        "id": "QpRnAcHmocQS",
        "colab": {
          "base_uri": "https://localhost:8080/"
        },
        "outputId": "c38a5cbd-74f7-4d4f-81f4-eee515445021"
      },
      "outputs": [
        {
          "output_type": "stream",
          "name": "stderr",
          "text": [
            "<ipython-input-44-8d2c1592475b>:7: LangChainDeprecationWarning: The class `BedrockEmbeddings` was deprecated in LangChain 0.2.11 and will be removed in 1.0. An updated version of the class exists in the :class:`~langchain-aws package and should be used instead. To use it run `pip install -U :class:`~langchain-aws` and import as `from :class:`~langchain_aws import BedrockEmbeddings``.\n",
            "  embeddings = BedrockEmbeddings(\n"
          ]
        }
      ],
      "source": [
        "# Make sure you have the AWS CLI configured with the proper credentials and region\n",
        "bedrock = boto3.client(\n",
        "    service_name='bedrock-runtime',\n",
        "    region_name='us-east-1'  # Replace with your preferred AWS region\n",
        ")\n",
        "# Initialize the Bedrock embedding function\n",
        "embeddings = BedrockEmbeddings(\n",
        "    client=bedrock,\n",
        "    model_id=\"amazon.titan-embed-text-v1\"\n",
        ")"
      ]
    },
    {
      "cell_type": "code",
      "execution_count": null,
      "metadata": {
        "colab": {
          "base_uri": "https://localhost:8080/"
        },
        "id": "ANneIQFgocQT",
        "outputId": "0266f2b6-12f4-4495-d4ae-5b98d0fc8713"
      },
      "outputs": [
        {
          "output_type": "stream",
          "name": "stdout",
          "text": [
            "ChromaDB index created and stored in data/chroma_db\n"
          ]
        }
      ],
      "source": [
        "# Create the ChromaDB vector store\n",
        "vector_store = Chroma.from_documents(\n",
        "    documents=chroma_documents,\n",
        "    embedding=embeddings,\n",
        "    persist_directory=os.path.join(data_folder, 'chroma_db')\n",
        ")\n",
        "\n",
        "print(f\"ChromaDB index created and stored in {os.path.join(data_folder, 'chroma_db')}\")\n"
      ]
    },
    {
      "cell_type": "code",
      "source": [
        "# OpenAI Version\n",
        "from langchain.embeddings import OpenAIEmbeddings\n",
        "\n",
        "# Initialize OpenAI embedding function\n",
        "embeddings = OpenAIEmbeddings(openai_api_key=openai_api_key)\n",
        "\n",
        "# Create ChromaDB vector store from documents\n",
        "vector_store = Chroma.from_documents(\n",
        "    documents=chroma_documents,\n",
        "    embedding=embeddings,\n",
        "    persist_directory=os.path.join(data_folder, 'chroma_db')\n",
        ")\n",
        "\n",
        "print(f\"ChromaDB index created and stored in {os.path.join(data_folder, 'chroma_db')}\")"
      ],
      "metadata": {
        "colab": {
          "base_uri": "https://localhost:8080/"
        },
        "id": "YBIX-EqSvpV3",
        "outputId": "53e1d2a9-3a5f-4665-9e9b-c1f41f48f917"
      },
      "execution_count": 69,
      "outputs": [
        {
          "output_type": "stream",
          "name": "stdout",
          "text": [
            "ChromaDB index created and stored in data/chroma_db\n"
          ]
        }
      ]
    },
    {
      "cell_type": "code",
      "execution_count": 70,
      "metadata": {
        "id": "47x6ec74ocQT"
      },
      "outputs": [],
      "source": [
        "def search_products_chroma(query, top_n=5):\n",
        "    results = vector_store.similarity_search(query, k=top_n)\n",
        "    return results"
      ]
    },
    {
      "cell_type": "code",
      "execution_count": 71,
      "metadata": {
        "colab": {
          "base_uri": "https://localhost:8080/"
        },
        "id": "3QqD3aVGocQT",
        "outputId": "84942f6d-b568-4bd4-a18f-2e55fd7c628b"
      },
      "outputs": [
        {
          "output_type": "execute_result",
          "data": {
            "text/plain": [
              "[Document(metadata={'product_name': 'EchoWave Bluetooth Speaker', 'product_id': 1, 'price': 79.99, 'category': 'Electronics'}, page_content='EchoWave Bluetooth Speaker\\nElectronics\\nCompact and powerful, this speaker delivers crystal-clear sound with impressive bass for all music lovers.'),\n",
              " Document(metadata={'product_name': 'EchoWave Bluetooth Speaker', 'price': 79.99, 'category': 'Electronics', 'product_id': 1}, page_content='EchoWave Bluetooth Speaker\\nElectronics\\nCompact and powerful, this speaker delivers crystal-clear sound with impressive bass for all music lovers.'),\n",
              " Document(metadata={'product_name': 'EchoWave Bluetooth Speaker', 'price': 79.99, 'product_id': 1, 'category': 'Electronics'}, page_content='EchoWave Bluetooth Speaker\\nElectronics\\nCompact and powerful, this speaker delivers crystal-clear sound with impressive bass for all music lovers.'),\n",
              " Document(metadata={'product_id': 1, 'category': 'Electronics', 'price': 79.99, 'product_name': 'EchoWave Bluetooth Speaker'}, page_content='EchoWave Bluetooth Speaker\\nElectronics\\nCompact and powerful, this speaker delivers crystal-clear sound with impressive bass for all music lovers.'),\n",
              " Document(metadata={'rating': 4.7, 'review': 'The EchoWave Bluetooth Speaker surpasses expectations with its robust sound and deep bass. Its compact design makes it perfect for travel. Highly recommend for any music enthusiast.', 'product_id': 1}, page_content='The EchoWave Bluetooth Speaker surpasses expectations with its robust sound and deep bass. Its compact design makes it perfect for travel. Highly recommend for any music enthusiast.')]"
            ]
          },
          "metadata": {},
          "execution_count": 71
        }
      ],
      "source": [
        "search_res = search_products_chroma(query=\"electronics review\")\n",
        "from google.colab import data_table\n",
        "data_table.enable_dataframe_formatter()\n",
        "search_res\n"
      ]
    },
    {
      "cell_type": "code",
      "source": [
        "# Pretified version for Colab\n",
        "search_res = search_products_chroma(query=\"electronics review\")\n",
        "\n",
        "# Convert results to a DataFrame\n",
        "def format_search_results(results):\n",
        "    rows = []\n",
        "    for doc in results:\n",
        "        # Each `doc` is typically a Document object with .page_content and .metadata\n",
        "        rows.append({\n",
        "            \"Content\": doc.page_content,\n",
        "            **doc.metadata  # Unpack any metadata (like category, product_name, etc.)\n",
        "        })\n",
        "    return pd.DataFrame(rows)\n",
        "\n",
        "# Create formatted table\n",
        "df_results = format_search_results(search_res)\n",
        "\n",
        "# Display using Google Colab data table\n",
        "from google.colab import data_table\n",
        "data_table.enable_dataframe_formatter()\n",
        "\n",
        "# Show interactive table\n",
        "df_results\n"
      ],
      "metadata": {
        "id": "VtvuWeRutdAV",
        "outputId": "a0724819-e04b-4c08-a99a-3af98215411a",
        "colab": {
          "base_uri": "https://localhost:8080/",
          "height": 394
        }
      },
      "execution_count": 72,
      "outputs": [
        {
          "output_type": "execute_result",
          "data": {
            "text/plain": [
              "                                             Content  product_id     category  \\\n",
              "0  EchoWave Bluetooth Speaker\\nElectronics\\nCompa...           1  Electronics   \n",
              "1  EchoWave Bluetooth Speaker\\nElectronics\\nCompa...           1  Electronics   \n",
              "2  EchoWave Bluetooth Speaker\\nElectronics\\nCompa...           1  Electronics   \n",
              "3  EchoWave Bluetooth Speaker\\nElectronics\\nCompa...           1  Electronics   \n",
              "4  The EchoWave Bluetooth Speaker surpasses expec...           1          NaN   \n",
              "\n",
              "   price                product_name  rating  \\\n",
              "0  79.99  EchoWave Bluetooth Speaker     NaN   \n",
              "1  79.99  EchoWave Bluetooth Speaker     NaN   \n",
              "2  79.99  EchoWave Bluetooth Speaker     NaN   \n",
              "3  79.99  EchoWave Bluetooth Speaker     NaN   \n",
              "4    NaN                         NaN     4.7   \n",
              "\n",
              "                                              review  \n",
              "0                                                NaN  \n",
              "1                                                NaN  \n",
              "2                                                NaN  \n",
              "3                                                NaN  \n",
              "4  The EchoWave Bluetooth Speaker surpasses expec...  "
            ],
            "text/html": [
              "\n",
              "  <div id=\"df-443fb217-e847-4d00-a3c3-d75fd9f41675\" class=\"colab-df-container\">\n",
              "    <div>\n",
              "<style scoped>\n",
              "    .dataframe tbody tr th:only-of-type {\n",
              "        vertical-align: middle;\n",
              "    }\n",
              "\n",
              "    .dataframe tbody tr th {\n",
              "        vertical-align: top;\n",
              "    }\n",
              "\n",
              "    .dataframe thead th {\n",
              "        text-align: right;\n",
              "    }\n",
              "</style>\n",
              "<table border=\"1\" class=\"dataframe\">\n",
              "  <thead>\n",
              "    <tr style=\"text-align: right;\">\n",
              "      <th></th>\n",
              "      <th>Content</th>\n",
              "      <th>product_id</th>\n",
              "      <th>category</th>\n",
              "      <th>price</th>\n",
              "      <th>product_name</th>\n",
              "      <th>rating</th>\n",
              "      <th>review</th>\n",
              "    </tr>\n",
              "  </thead>\n",
              "  <tbody>\n",
              "    <tr>\n",
              "      <th>0</th>\n",
              "      <td>EchoWave Bluetooth Speaker\\nElectronics\\nCompa...</td>\n",
              "      <td>1</td>\n",
              "      <td>Electronics</td>\n",
              "      <td>79.99</td>\n",
              "      <td>EchoWave Bluetooth Speaker</td>\n",
              "      <td>NaN</td>\n",
              "      <td>NaN</td>\n",
              "    </tr>\n",
              "    <tr>\n",
              "      <th>1</th>\n",
              "      <td>EchoWave Bluetooth Speaker\\nElectronics\\nCompa...</td>\n",
              "      <td>1</td>\n",
              "      <td>Electronics</td>\n",
              "      <td>79.99</td>\n",
              "      <td>EchoWave Bluetooth Speaker</td>\n",
              "      <td>NaN</td>\n",
              "      <td>NaN</td>\n",
              "    </tr>\n",
              "    <tr>\n",
              "      <th>2</th>\n",
              "      <td>EchoWave Bluetooth Speaker\\nElectronics\\nCompa...</td>\n",
              "      <td>1</td>\n",
              "      <td>Electronics</td>\n",
              "      <td>79.99</td>\n",
              "      <td>EchoWave Bluetooth Speaker</td>\n",
              "      <td>NaN</td>\n",
              "      <td>NaN</td>\n",
              "    </tr>\n",
              "    <tr>\n",
              "      <th>3</th>\n",
              "      <td>EchoWave Bluetooth Speaker\\nElectronics\\nCompa...</td>\n",
              "      <td>1</td>\n",
              "      <td>Electronics</td>\n",
              "      <td>79.99</td>\n",
              "      <td>EchoWave Bluetooth Speaker</td>\n",
              "      <td>NaN</td>\n",
              "      <td>NaN</td>\n",
              "    </tr>\n",
              "    <tr>\n",
              "      <th>4</th>\n",
              "      <td>The EchoWave Bluetooth Speaker surpasses expec...</td>\n",
              "      <td>1</td>\n",
              "      <td>NaN</td>\n",
              "      <td>NaN</td>\n",
              "      <td>NaN</td>\n",
              "      <td>4.7</td>\n",
              "      <td>The EchoWave Bluetooth Speaker surpasses expec...</td>\n",
              "    </tr>\n",
              "  </tbody>\n",
              "</table>\n",
              "</div>\n",
              "    <div class=\"colab-df-buttons\">\n",
              "\n",
              "  <div class=\"colab-df-container\">\n",
              "    <button class=\"colab-df-convert\" onclick=\"convertToInteractive('df-443fb217-e847-4d00-a3c3-d75fd9f41675')\"\n",
              "            title=\"Convert this dataframe to an interactive table.\"\n",
              "            style=\"display:none;\">\n",
              "\n",
              "  <svg xmlns=\"http://www.w3.org/2000/svg\" height=\"24px\" viewBox=\"0 -960 960 960\">\n",
              "    <path d=\"M120-120v-720h720v720H120Zm60-500h600v-160H180v160Zm220 220h160v-160H400v160Zm0 220h160v-160H400v160ZM180-400h160v-160H180v160Zm440 0h160v-160H620v160ZM180-180h160v-160H180v160Zm440 0h160v-160H620v160Z\"/>\n",
              "  </svg>\n",
              "    </button>\n",
              "\n",
              "  <style>\n",
              "    .colab-df-container {\n",
              "      display:flex;\n",
              "      gap: 12px;\n",
              "    }\n",
              "\n",
              "    .colab-df-convert {\n",
              "      background-color: #E8F0FE;\n",
              "      border: none;\n",
              "      border-radius: 50%;\n",
              "      cursor: pointer;\n",
              "      display: none;\n",
              "      fill: #1967D2;\n",
              "      height: 32px;\n",
              "      padding: 0 0 0 0;\n",
              "      width: 32px;\n",
              "    }\n",
              "\n",
              "    .colab-df-convert:hover {\n",
              "      background-color: #E2EBFA;\n",
              "      box-shadow: 0px 1px 2px rgba(60, 64, 67, 0.3), 0px 1px 3px 1px rgba(60, 64, 67, 0.15);\n",
              "      fill: #174EA6;\n",
              "    }\n",
              "\n",
              "    .colab-df-buttons div {\n",
              "      margin-bottom: 4px;\n",
              "    }\n",
              "\n",
              "    [theme=dark] .colab-df-convert {\n",
              "      background-color: #3B4455;\n",
              "      fill: #D2E3FC;\n",
              "    }\n",
              "\n",
              "    [theme=dark] .colab-df-convert:hover {\n",
              "      background-color: #434B5C;\n",
              "      box-shadow: 0px 1px 3px 1px rgba(0, 0, 0, 0.15);\n",
              "      filter: drop-shadow(0px 1px 2px rgba(0, 0, 0, 0.3));\n",
              "      fill: #FFFFFF;\n",
              "    }\n",
              "  </style>\n",
              "\n",
              "    <script>\n",
              "      const buttonEl =\n",
              "        document.querySelector('#df-443fb217-e847-4d00-a3c3-d75fd9f41675 button.colab-df-convert');\n",
              "      buttonEl.style.display =\n",
              "        google.colab.kernel.accessAllowed ? 'block' : 'none';\n",
              "\n",
              "      async function convertToInteractive(key) {\n",
              "        const element = document.querySelector('#df-443fb217-e847-4d00-a3c3-d75fd9f41675');\n",
              "        const dataTable =\n",
              "          await google.colab.kernel.invokeFunction('convertToInteractive',\n",
              "                                                    [key], {});\n",
              "        if (!dataTable) return;\n",
              "\n",
              "        const docLinkHtml = 'Like what you see? Visit the ' +\n",
              "          '<a target=\"_blank\" href=https://colab.research.google.com/notebooks/data_table.ipynb>data table notebook</a>'\n",
              "          + ' to learn more about interactive tables.';\n",
              "        element.innerHTML = '';\n",
              "        dataTable['output_type'] = 'display_data';\n",
              "        await google.colab.output.renderOutput(dataTable, element);\n",
              "        const docLink = document.createElement('div');\n",
              "        docLink.innerHTML = docLinkHtml;\n",
              "        element.appendChild(docLink);\n",
              "      }\n",
              "    </script>\n",
              "  </div>\n",
              "\n",
              "\n",
              "    <div id=\"df-cd3514f1-fc37-4d22-8c9b-09488abbb5cc\">\n",
              "      <button class=\"colab-df-quickchart\" onclick=\"quickchart('df-cd3514f1-fc37-4d22-8c9b-09488abbb5cc')\"\n",
              "                title=\"Suggest charts\"\n",
              "                style=\"display:none;\">\n",
              "\n",
              "<svg xmlns=\"http://www.w3.org/2000/svg\" height=\"24px\"viewBox=\"0 0 24 24\"\n",
              "     width=\"24px\">\n",
              "    <g>\n",
              "        <path d=\"M19 3H5c-1.1 0-2 .9-2 2v14c0 1.1.9 2 2 2h14c1.1 0 2-.9 2-2V5c0-1.1-.9-2-2-2zM9 17H7v-7h2v7zm4 0h-2V7h2v10zm4 0h-2v-4h2v4z\"/>\n",
              "    </g>\n",
              "</svg>\n",
              "      </button>\n",
              "\n",
              "<style>\n",
              "  .colab-df-quickchart {\n",
              "      --bg-color: #E8F0FE;\n",
              "      --fill-color: #1967D2;\n",
              "      --hover-bg-color: #E2EBFA;\n",
              "      --hover-fill-color: #174EA6;\n",
              "      --disabled-fill-color: #AAA;\n",
              "      --disabled-bg-color: #DDD;\n",
              "  }\n",
              "\n",
              "  [theme=dark] .colab-df-quickchart {\n",
              "      --bg-color: #3B4455;\n",
              "      --fill-color: #D2E3FC;\n",
              "      --hover-bg-color: #434B5C;\n",
              "      --hover-fill-color: #FFFFFF;\n",
              "      --disabled-bg-color: #3B4455;\n",
              "      --disabled-fill-color: #666;\n",
              "  }\n",
              "\n",
              "  .colab-df-quickchart {\n",
              "    background-color: var(--bg-color);\n",
              "    border: none;\n",
              "    border-radius: 50%;\n",
              "    cursor: pointer;\n",
              "    display: none;\n",
              "    fill: var(--fill-color);\n",
              "    height: 32px;\n",
              "    padding: 0;\n",
              "    width: 32px;\n",
              "  }\n",
              "\n",
              "  .colab-df-quickchart:hover {\n",
              "    background-color: var(--hover-bg-color);\n",
              "    box-shadow: 0 1px 2px rgba(60, 64, 67, 0.3), 0 1px 3px 1px rgba(60, 64, 67, 0.15);\n",
              "    fill: var(--button-hover-fill-color);\n",
              "  }\n",
              "\n",
              "  .colab-df-quickchart-complete:disabled,\n",
              "  .colab-df-quickchart-complete:disabled:hover {\n",
              "    background-color: var(--disabled-bg-color);\n",
              "    fill: var(--disabled-fill-color);\n",
              "    box-shadow: none;\n",
              "  }\n",
              "\n",
              "  .colab-df-spinner {\n",
              "    border: 2px solid var(--fill-color);\n",
              "    border-color: transparent;\n",
              "    border-bottom-color: var(--fill-color);\n",
              "    animation:\n",
              "      spin 1s steps(1) infinite;\n",
              "  }\n",
              "\n",
              "  @keyframes spin {\n",
              "    0% {\n",
              "      border-color: transparent;\n",
              "      border-bottom-color: var(--fill-color);\n",
              "      border-left-color: var(--fill-color);\n",
              "    }\n",
              "    20% {\n",
              "      border-color: transparent;\n",
              "      border-left-color: var(--fill-color);\n",
              "      border-top-color: var(--fill-color);\n",
              "    }\n",
              "    30% {\n",
              "      border-color: transparent;\n",
              "      border-left-color: var(--fill-color);\n",
              "      border-top-color: var(--fill-color);\n",
              "      border-right-color: var(--fill-color);\n",
              "    }\n",
              "    40% {\n",
              "      border-color: transparent;\n",
              "      border-right-color: var(--fill-color);\n",
              "      border-top-color: var(--fill-color);\n",
              "    }\n",
              "    60% {\n",
              "      border-color: transparent;\n",
              "      border-right-color: var(--fill-color);\n",
              "    }\n",
              "    80% {\n",
              "      border-color: transparent;\n",
              "      border-right-color: var(--fill-color);\n",
              "      border-bottom-color: var(--fill-color);\n",
              "    }\n",
              "    90% {\n",
              "      border-color: transparent;\n",
              "      border-bottom-color: var(--fill-color);\n",
              "    }\n",
              "  }\n",
              "</style>\n",
              "\n",
              "      <script>\n",
              "        async function quickchart(key) {\n",
              "          const quickchartButtonEl =\n",
              "            document.querySelector('#' + key + ' button');\n",
              "          quickchartButtonEl.disabled = true;  // To prevent multiple clicks.\n",
              "          quickchartButtonEl.classList.add('colab-df-spinner');\n",
              "          try {\n",
              "            const charts = await google.colab.kernel.invokeFunction(\n",
              "                'suggestCharts', [key], {});\n",
              "          } catch (error) {\n",
              "            console.error('Error during call to suggestCharts:', error);\n",
              "          }\n",
              "          quickchartButtonEl.classList.remove('colab-df-spinner');\n",
              "          quickchartButtonEl.classList.add('colab-df-quickchart-complete');\n",
              "        }\n",
              "        (() => {\n",
              "          let quickchartButtonEl =\n",
              "            document.querySelector('#df-cd3514f1-fc37-4d22-8c9b-09488abbb5cc button');\n",
              "          quickchartButtonEl.style.display =\n",
              "            google.colab.kernel.accessAllowed ? 'block' : 'none';\n",
              "        })();\n",
              "      </script>\n",
              "    </div>\n",
              "\n",
              "  <div id=\"id_172a49c5-d416-4aa7-b922-53fb4022377b\">\n",
              "    <style>\n",
              "      .colab-df-generate {\n",
              "        background-color: #E8F0FE;\n",
              "        border: none;\n",
              "        border-radius: 50%;\n",
              "        cursor: pointer;\n",
              "        display: none;\n",
              "        fill: #1967D2;\n",
              "        height: 32px;\n",
              "        padding: 0 0 0 0;\n",
              "        width: 32px;\n",
              "      }\n",
              "\n",
              "      .colab-df-generate:hover {\n",
              "        background-color: #E2EBFA;\n",
              "        box-shadow: 0px 1px 2px rgba(60, 64, 67, 0.3), 0px 1px 3px 1px rgba(60, 64, 67, 0.15);\n",
              "        fill: #174EA6;\n",
              "      }\n",
              "\n",
              "      [theme=dark] .colab-df-generate {\n",
              "        background-color: #3B4455;\n",
              "        fill: #D2E3FC;\n",
              "      }\n",
              "\n",
              "      [theme=dark] .colab-df-generate:hover {\n",
              "        background-color: #434B5C;\n",
              "        box-shadow: 0px 1px 3px 1px rgba(0, 0, 0, 0.15);\n",
              "        filter: drop-shadow(0px 1px 2px rgba(0, 0, 0, 0.3));\n",
              "        fill: #FFFFFF;\n",
              "      }\n",
              "    </style>\n",
              "    <button class=\"colab-df-generate\" onclick=\"generateWithVariable('df_results')\"\n",
              "            title=\"Generate code using this dataframe.\"\n",
              "            style=\"display:none;\">\n",
              "\n",
              "  <svg xmlns=\"http://www.w3.org/2000/svg\" height=\"24px\"viewBox=\"0 0 24 24\"\n",
              "       width=\"24px\">\n",
              "    <path d=\"M7,19H8.4L18.45,9,17,7.55,7,17.6ZM5,21V16.75L18.45,3.32a2,2,0,0,1,2.83,0l1.4,1.43a1.91,1.91,0,0,1,.58,1.4,1.91,1.91,0,0,1-.58,1.4L9.25,21ZM18.45,9,17,7.55Zm-12,3A5.31,5.31,0,0,0,4.9,8.1,5.31,5.31,0,0,0,1,6.5,5.31,5.31,0,0,0,4.9,4.9,5.31,5.31,0,0,0,6.5,1,5.31,5.31,0,0,0,8.1,4.9,5.31,5.31,0,0,0,12,6.5,5.46,5.46,0,0,0,6.5,12Z\"/>\n",
              "  </svg>\n",
              "    </button>\n",
              "    <script>\n",
              "      (() => {\n",
              "      const buttonEl =\n",
              "        document.querySelector('#id_172a49c5-d416-4aa7-b922-53fb4022377b button.colab-df-generate');\n",
              "      buttonEl.style.display =\n",
              "        google.colab.kernel.accessAllowed ? 'block' : 'none';\n",
              "\n",
              "      buttonEl.onclick = () => {\n",
              "        google.colab.notebook.generateWithVariable('df_results');\n",
              "      }\n",
              "      })();\n",
              "    </script>\n",
              "  </div>\n",
              "\n",
              "    </div>\n",
              "  </div>\n"
            ],
            "application/vnd.google.colaboratory.intrinsic+json": {
              "type": "dataframe",
              "variable_name": "df_results",
              "summary": "{\n  \"name\": \"df_results\",\n  \"rows\": 5,\n  \"fields\": [\n    {\n      \"column\": \"Content\",\n      \"properties\": {\n        \"dtype\": \"category\",\n        \"num_unique_values\": 2,\n        \"samples\": [\n          \"The EchoWave Bluetooth Speaker surpasses expectations with its robust sound and deep bass. Its compact design makes it perfect for travel. Highly recommend for any music enthusiast.\",\n          \"EchoWave Bluetooth Speaker\\nElectronics\\nCompact and powerful, this speaker delivers crystal-clear sound with impressive bass for all music lovers.\"\n        ],\n        \"semantic_type\": \"\",\n        \"description\": \"\"\n      }\n    },\n    {\n      \"column\": \"product_id\",\n      \"properties\": {\n        \"dtype\": \"number\",\n        \"std\": 0,\n        \"min\": 1,\n        \"max\": 1,\n        \"num_unique_values\": 1,\n        \"samples\": [\n          1\n        ],\n        \"semantic_type\": \"\",\n        \"description\": \"\"\n      }\n    },\n    {\n      \"column\": \"category\",\n      \"properties\": {\n        \"dtype\": \"category\",\n        \"num_unique_values\": 1,\n        \"samples\": [\n          \"Electronics\"\n        ],\n        \"semantic_type\": \"\",\n        \"description\": \"\"\n      }\n    },\n    {\n      \"column\": \"price\",\n      \"properties\": {\n        \"dtype\": \"number\",\n        \"std\": 0.0,\n        \"min\": 79.99,\n        \"max\": 79.99,\n        \"num_unique_values\": 1,\n        \"samples\": [\n          79.99\n        ],\n        \"semantic_type\": \"\",\n        \"description\": \"\"\n      }\n    },\n    {\n      \"column\": \"product_name\",\n      \"properties\": {\n        \"dtype\": \"category\",\n        \"num_unique_values\": 1,\n        \"samples\": [\n          \"EchoWave Bluetooth Speaker\"\n        ],\n        \"semantic_type\": \"\",\n        \"description\": \"\"\n      }\n    },\n    {\n      \"column\": \"rating\",\n      \"properties\": {\n        \"dtype\": \"number\",\n        \"std\": null,\n        \"min\": 4.7,\n        \"max\": 4.7,\n        \"num_unique_values\": 1,\n        \"samples\": [\n          4.7\n        ],\n        \"semantic_type\": \"\",\n        \"description\": \"\"\n      }\n    },\n    {\n      \"column\": \"review\",\n      \"properties\": {\n        \"dtype\": \"category\",\n        \"num_unique_values\": 1,\n        \"samples\": [\n          \"The EchoWave Bluetooth Speaker surpasses expectations with its robust sound and deep bass. Its compact design makes it perfect for travel. Highly recommend for any music enthusiast.\"\n        ],\n        \"semantic_type\": \"\",\n        \"description\": \"\"\n      }\n    }\n  ]\n}"
            },
            "application/vnd.google.colaboratory.module+javascript": "\n      import \"https://ssl.gstatic.com/colaboratory/data_table/e523c247d1e24a05/data_table.js\";\n\n      const table = window.createDataTable({\n        data: [[{\n            'v': 0,\n            'f': \"0\",\n        },\n\"EchoWave Bluetooth Speaker\\nElectronics\\nCompact and powerful, this speaker delivers crystal-clear sound with impressive bass for all music lovers.\",\n{\n            'v': 1,\n            'f': \"1\",\n        },\n\"Electronics\",\n{\n            'v': 79.99,\n            'f': \"79.99\",\n        },\n\"EchoWave Bluetooth Speaker\",\n{\n            'v': NaN,\n            'f': \"NaN\",\n        },\nNaN],\n [{\n            'v': 1,\n            'f': \"1\",\n        },\n\"EchoWave Bluetooth Speaker\\nElectronics\\nCompact and powerful, this speaker delivers crystal-clear sound with impressive bass for all music lovers.\",\n{\n            'v': 1,\n            'f': \"1\",\n        },\n\"Electronics\",\n{\n            'v': 79.99,\n            'f': \"79.99\",\n        },\n\"EchoWave Bluetooth Speaker\",\n{\n            'v': NaN,\n            'f': \"NaN\",\n        },\nNaN],\n [{\n            'v': 2,\n            'f': \"2\",\n        },\n\"EchoWave Bluetooth Speaker\\nElectronics\\nCompact and powerful, this speaker delivers crystal-clear sound with impressive bass for all music lovers.\",\n{\n            'v': 1,\n            'f': \"1\",\n        },\n\"Electronics\",\n{\n            'v': 79.99,\n            'f': \"79.99\",\n        },\n\"EchoWave Bluetooth Speaker\",\n{\n            'v': NaN,\n            'f': \"NaN\",\n        },\nNaN],\n [{\n            'v': 3,\n            'f': \"3\",\n        },\n\"EchoWave Bluetooth Speaker\\nElectronics\\nCompact and powerful, this speaker delivers crystal-clear sound with impressive bass for all music lovers.\",\n{\n            'v': 1,\n            'f': \"1\",\n        },\n\"Electronics\",\n{\n            'v': 79.99,\n            'f': \"79.99\",\n        },\n\"EchoWave Bluetooth Speaker\",\n{\n            'v': NaN,\n            'f': \"NaN\",\n        },\nNaN],\n [{\n            'v': 4,\n            'f': \"4\",\n        },\n\"The EchoWave Bluetooth Speaker surpasses expectations with its robust sound and deep bass. Its compact design makes it perfect for travel. Highly recommend for any music enthusiast.\",\n{\n            'v': 1,\n            'f': \"1\",\n        },\nNaN,\n{\n            'v': NaN,\n            'f': \"NaN\",\n        },\nNaN,\n{\n            'v': 4.7,\n            'f': \"4.7\",\n        },\n\"The EchoWave Bluetooth Speaker surpasses expectations with its robust sound and deep bass. Its compact design makes it perfect for travel. Highly recommend for any music enthusiast.\"]],\n        columns: [[\"number\", \"index\"], [\"string\", \"Content\"], [\"number\", \"product_id\"], [\"string\", \"category\"], [\"number\", \"price\"], [\"string\", \"product_name\"], [\"number\", \"rating\"], [\"string\", \"review\"]],\n        columnOptions: [{\"width\": \"1px\", \"className\": \"index_column\"}],\n        rowsPerPage: 25,\n        helpUrl: \"https://colab.research.google.com/notebooks/data_table.ipynb\",\n        suppressOutputScrolling: true,\n        minimumWidth: undefined,\n      });\n\n      function appendQuickchartButton(parentElement) {\n        let quickchartButtonContainerElement = document.createElement('div');\n        quickchartButtonContainerElement.innerHTML = `\n    <div id=\"df-6487fb6d-40c2-41f3-8a89-8c0616a19983\">\n      <button class=\"colab-df-quickchart\" onclick=\"quickchart('df-6487fb6d-40c2-41f3-8a89-8c0616a19983')\"\n                title=\"Suggest charts\"\n                style=\"display:none;\">\n\n<svg xmlns=\"http://www.w3.org/2000/svg\" height=\"24px\"viewBox=\"0 0 24 24\"\n     width=\"24px\">\n    <g>\n        <path d=\"M19 3H5c-1.1 0-2 .9-2 2v14c0 1.1.9 2 2 2h14c1.1 0 2-.9 2-2V5c0-1.1-.9-2-2-2zM9 17H7v-7h2v7zm4 0h-2V7h2v10zm4 0h-2v-4h2v4z\"/>\n    </g>\n</svg>\n      </button>\n\n<style>\n  .colab-df-quickchart {\n      --bg-color: #E8F0FE;\n      --fill-color: #1967D2;\n      --hover-bg-color: #E2EBFA;\n      --hover-fill-color: #174EA6;\n      --disabled-fill-color: #AAA;\n      --disabled-bg-color: #DDD;\n  }\n\n  [theme=dark] .colab-df-quickchart {\n      --bg-color: #3B4455;\n      --fill-color: #D2E3FC;\n      --hover-bg-color: #434B5C;\n      --hover-fill-color: #FFFFFF;\n      --disabled-bg-color: #3B4455;\n      --disabled-fill-color: #666;\n  }\n\n  .colab-df-quickchart {\n    background-color: var(--bg-color);\n    border: none;\n    border-radius: 50%;\n    cursor: pointer;\n    display: none;\n    fill: var(--fill-color);\n    height: 32px;\n    padding: 0;\n    width: 32px;\n  }\n\n  .colab-df-quickchart:hover {\n    background-color: var(--hover-bg-color);\n    box-shadow: 0 1px 2px rgba(60, 64, 67, 0.3), 0 1px 3px 1px rgba(60, 64, 67, 0.15);\n    fill: var(--button-hover-fill-color);\n  }\n\n  .colab-df-quickchart-complete:disabled,\n  .colab-df-quickchart-complete:disabled:hover {\n    background-color: var(--disabled-bg-color);\n    fill: var(--disabled-fill-color);\n    box-shadow: none;\n  }\n\n  .colab-df-spinner {\n    border: 2px solid var(--fill-color);\n    border-color: transparent;\n    border-bottom-color: var(--fill-color);\n    animation:\n      spin 1s steps(1) infinite;\n  }\n\n  @keyframes spin {\n    0% {\n      border-color: transparent;\n      border-bottom-color: var(--fill-color);\n      border-left-color: var(--fill-color);\n    }\n    20% {\n      border-color: transparent;\n      border-left-color: var(--fill-color);\n      border-top-color: var(--fill-color);\n    }\n    30% {\n      border-color: transparent;\n      border-left-color: var(--fill-color);\n      border-top-color: var(--fill-color);\n      border-right-color: var(--fill-color);\n    }\n    40% {\n      border-color: transparent;\n      border-right-color: var(--fill-color);\n      border-top-color: var(--fill-color);\n    }\n    60% {\n      border-color: transparent;\n      border-right-color: var(--fill-color);\n    }\n    80% {\n      border-color: transparent;\n      border-right-color: var(--fill-color);\n      border-bottom-color: var(--fill-color);\n    }\n    90% {\n      border-color: transparent;\n      border-bottom-color: var(--fill-color);\n    }\n  }\n</style>\n\n      <script>\n        async function quickchart(key) {\n          const quickchartButtonEl =\n            document.querySelector('#' + key + ' button');\n          quickchartButtonEl.disabled = true;  // To prevent multiple clicks.\n          quickchartButtonEl.classList.add('colab-df-spinner');\n          try {\n            const charts = await google.colab.kernel.invokeFunction(\n                'suggestCharts', [key], {});\n          } catch (error) {\n            console.error('Error during call to suggestCharts:', error);\n          }\n          quickchartButtonEl.classList.remove('colab-df-spinner');\n          quickchartButtonEl.classList.add('colab-df-quickchart-complete');\n        }\n        (() => {\n          let quickchartButtonEl =\n            document.querySelector('#df-6487fb6d-40c2-41f3-8a89-8c0616a19983 button');\n          quickchartButtonEl.style.display =\n            google.colab.kernel.accessAllowed ? 'block' : 'none';\n        })();\n      </script>\n    </div>`;\n        parentElement.appendChild(quickchartButtonContainerElement);\n      }\n\n      appendQuickchartButton(table);\n    "
          },
          "metadata": {},
          "execution_count": 72
        }
      ]
    }
  ],
  "metadata": {
    "kernelspec": {
      "display_name": "Python 3",
      "language": "python",
      "name": "python3"
    },
    "language_info": {
      "codemirror_mode": {
        "name": "ipython",
        "version": 3
      },
      "file_extension": ".py",
      "mimetype": "text/x-python",
      "name": "python",
      "nbconvert_exporter": "python",
      "pygments_lexer": "ipython3",
      "version": "3.11.9"
    },
    "colab": {
      "provenance": []
    }
  },
  "nbformat": 4,
  "nbformat_minor": 0
}